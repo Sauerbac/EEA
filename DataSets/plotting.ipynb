{
 "cells": [
  {
   "cell_type": "code",
   "execution_count": 2,
   "metadata": {},
   "outputs": [],
   "source": [
    "import pandas as pd\n",
    "import os\n",
    "import matplotlib.pyplot as plt\n"
   ]
  },
  {
   "cell_type": "code",
   "execution_count": 3,
   "metadata": {},
   "outputs": [
    {
     "data": {
      "text/plain": [
       "[\"Lifetime D'Urso.csv\", 'Lifetime Lim.csv', 'Lifetime P.Pearman.csv']"
      ]
     },
     "execution_count": 3,
     "metadata": {},
     "output_type": "execute_result"
    }
   ],
   "source": [
    "lifetime_files = [os.path.join('', f) for f in os.listdir() if 'Lifetime' in f]\n",
    "lifetime_files"
   ]
  },
  {
   "cell_type": "code",
   "execution_count": 4,
   "metadata": {},
   "outputs": [
    {
     "data": {
      "image/png": "[encoded data removed]",
      "text/plain": [
       "<Figure size 432x288 with 1 Axes>"
      ]
     },
     "metadata": {
      "needs_background": "light"
     },
     "output_type": "display_data"
    }
   ],
   "source": [
    "# cleanup of data\n",
    "current_file = lifetime_files[1]\n",
    "df = pd.read_csv(current_file, sep=';', header=[0, 1])\n",
    "num_datas = df.shape[1]//2\n",
    "for i in range(num_datas):\n",
    "    y_values = [y for _, y in sorted(\n",
    "        zip(list(df.iloc[:, i*2]), list(df.iloc[:, i*2+1])))]\n",
    "    x_values = sorted(list(df.iloc[:, i*2]))\n",
    "    df.iloc[:, i*2+1] = y_values\n",
    "    df.iloc[:, i*2] = x_values\n",
    "    plt.plot(df.iloc[:, i*2], df.iloc[:, i*2+1])\n"
   ]
  },
  {
   "cell_type": "code",
   "execution_count": 51,
   "metadata": {},
   "outputs": [],
   "source": [
    "df.to_csv(current_file, sep=';')"
   ]
  },
  {
   "cell_type": "code",
   "execution_count": 67,
   "metadata": {},
   "outputs": [],
   "source": [
    "%matplotlib qt\n",
    "# Combined Plot\n",
    "lifetime_files = [os.path.join('', f) for f in os.listdir() if 'Lifetime' in f]\n",
    "for f in lifetime_files:\n",
    "    df = pd.read_csv(f, sep=';', header=[0, 1], index_col=0)\n",
    "    num_datas = df.shape[1]//2\n",
    "    for i in range(num_datas):\n",
    "        plt.plot(df.iloc[:, i*2], df.iloc[:, i*2+1])\n"
   ]
  },
  {
   "cell_type": "code",
   "execution_count": 56,
   "metadata": {},
   "outputs": [
    {
     "data": {
      "text/html": [
       "<div>\n",
       "<style scoped>\n",
       "    .dataframe tbody tr th:only-of-type {\n",
       "        vertical-align: middle;\n",
       "    }\n",
       "\n",
       "    .dataframe tbody tr th {\n",
       "        vertical-align: top;\n",
       "    }\n",
       "\n",
       "    .dataframe thead tr th {\n",
       "        text-align: left;\n",
       "    }\n",
       "</style>\n",
       "<table border=\"1\" class=\"dataframe\">\n",
       "  <thead>\n",
       "    <tr>\n",
       "      <th></th>\n",
       "      <th>Baseline</th>\n",
       "      <th>Unnamed: 1_level_0</th>\n",
       "      <th>Synthesized</th>\n",
       "      <th>Unnamed: 3_level_0</th>\n",
       "      <th>Commercial</th>\n",
       "      <th>Unnamed: 5_level_0</th>\n",
       "    </tr>\n",
       "    <tr>\n",
       "      <th></th>\n",
       "      <th>X</th>\n",
       "      <th>Y</th>\n",
       "      <th>X</th>\n",
       "      <th>Y</th>\n",
       "      <th>X</th>\n",
       "      <th>Y</th>\n",
       "    </tr>\n",
       "  </thead>\n",
       "  <tbody>\n",
       "    <tr>\n",
       "      <th>0</th>\n",
       "      <td>3.801894</td>\n",
       "      <td>0.947718</td>\n",
       "      <td>1.226568</td>\n",
       "      <td>0.040569</td>\n",
       "      <td>-2.606097</td>\n",
       "      <td>0.999775</td>\n",
       "    </tr>\n",
       "    <tr>\n",
       "      <th>1</th>\n",
       "      <td>6.672608</td>\n",
       "      <td>0.933506</td>\n",
       "      <td>1.229138</td>\n",
       "      <td>0.027775</td>\n",
       "      <td>0.174262</td>\n",
       "      <td>0.007730</td>\n",
       "    </tr>\n",
       "    <tr>\n",
       "      <th>2</th>\n",
       "      <td>9.653361</td>\n",
       "      <td>0.920609</td>\n",
       "      <td>5.335524</td>\n",
       "      <td>1.000496</td>\n",
       "      <td>0.365424</td>\n",
       "      <td>1.032830</td>\n",
       "    </tr>\n",
       "    <tr>\n",
       "      <th>3</th>\n",
       "      <td>13.295778</td>\n",
       "      <td>0.908459</td>\n",
       "      <td>8.315827</td>\n",
       "      <td>0.989838</td>\n",
       "      <td>0.565753</td>\n",
       "      <td>0.035593</td>\n",
       "    </tr>\n",
       "    <tr>\n",
       "      <th>4</th>\n",
       "      <td>17.269444</td>\n",
       "      <td>0.894604</td>\n",
       "      <td>8.975927</td>\n",
       "      <td>0.998368</td>\n",
       "      <td>0.568324</td>\n",
       "      <td>0.022799</td>\n",
       "    </tr>\n",
       "    <tr>\n",
       "      <th>...</th>\n",
       "      <td>...</td>\n",
       "      <td>...</td>\n",
       "      <td>...</td>\n",
       "      <td>...</td>\n",
       "      <td>...</td>\n",
       "      <td>...</td>\n",
       "    </tr>\n",
       "    <tr>\n",
       "      <th>985</th>\n",
       "      <td>NaN</td>\n",
       "      <td>NaN</td>\n",
       "      <td>504.421111</td>\n",
       "      <td>0.063255</td>\n",
       "      <td>NaN</td>\n",
       "      <td>NaN</td>\n",
       "    </tr>\n",
       "    <tr>\n",
       "      <th>986</th>\n",
       "      <td>NaN</td>\n",
       "      <td>NaN</td>\n",
       "      <td>504.865997</td>\n",
       "      <td>0.044953</td>\n",
       "      <td>NaN</td>\n",
       "      <td>NaN</td>\n",
       "    </tr>\n",
       "    <tr>\n",
       "      <th>987</th>\n",
       "      <td>NaN</td>\n",
       "      <td>NaN</td>\n",
       "      <td>505.861181</td>\n",
       "      <td>0.032693</td>\n",
       "      <td>NaN</td>\n",
       "      <td>NaN</td>\n",
       "    </tr>\n",
       "    <tr>\n",
       "      <th>988</th>\n",
       "      <td>NaN</td>\n",
       "      <td>NaN</td>\n",
       "      <td>506.856614</td>\n",
       "      <td>0.019189</td>\n",
       "      <td>NaN</td>\n",
       "      <td>NaN</td>\n",
       "    </tr>\n",
       "    <tr>\n",
       "      <th>989</th>\n",
       "      <td>NaN</td>\n",
       "      <td>NaN</td>\n",
       "      <td>509.175710</td>\n",
       "      <td>0.005510</td>\n",
       "      <td>NaN</td>\n",
       "      <td>NaN</td>\n",
       "    </tr>\n",
       "  </tbody>\n",
       "</table>\n",
       "<p>990 rows × 6 columns</p>\n",
       "</div>"
      ],
      "text/plain": [
       "      Baseline Unnamed: 1_level_0 Synthesized Unnamed: 3_level_0 Commercial  \\\n",
       "             X                  Y           X                  Y          X   \n",
       "0     3.801894           0.947718    1.226568           0.040569  -2.606097   \n",
       "1     6.672608           0.933506    1.229138           0.027775   0.174262   \n",
       "2     9.653361           0.920609    5.335524           1.000496   0.365424   \n",
       "3    13.295778           0.908459    8.315827           0.989838   0.565753   \n",
       "4    17.269444           0.894604    8.975927           0.998368   0.568324   \n",
       "..         ...                ...         ...                ...        ...   \n",
       "985        NaN                NaN  504.421111           0.063255        NaN   \n",
       "986        NaN                NaN  504.865997           0.044953        NaN   \n",
       "987        NaN                NaN  505.861181           0.032693        NaN   \n",
       "988        NaN                NaN  506.856614           0.019189        NaN   \n",
       "989        NaN                NaN  509.175710           0.005510        NaN   \n",
       "\n",
       "    Unnamed: 5_level_0  \n",
       "                     Y  \n",
       "0             0.999775  \n",
       "1             0.007730  \n",
       "2             1.032830  \n",
       "3             0.035593  \n",
       "4             0.022799  \n",
       "..                 ...  \n",
       "985                NaN  \n",
       "986                NaN  \n",
       "987                NaN  \n",
       "988                NaN  \n",
       "989                NaN  \n",
       "\n",
       "[990 rows x 6 columns]"
      ]
     },
     "execution_count": 56,
     "metadata": {},
     "output_type": "execute_result"
    }
   ],
   "source": [
    "df"
   ]
  },
  {
   "cell_type": "code",
   "execution_count": null,
   "metadata": {},
   "outputs": [],
   "source": []
  }
 ],
 "metadata": {
  "interpreter": {
   "hash": "553a2bf362e170be795afe8024ee59f52a4909da45a00067d5dfef113ff8cf03"
  },
  "kernelspec": {
   "display_name": "Python 3.9.7",
   "language": "python",
   "name": "python3"
  },
  "language_info": {
   "codemirror_mode": {
    "name": "ipython",
    "version": 3
   },
   "file_extension": ".py",
   "mimetype": "text/x-python",
   "name": "python",
   "nbconvert_exporter": "python",
   "pygments_lexer": "ipython3",
   "version": "3.9.7"
  },
  "orig_nbformat": 4
 },
 "nbformat": 4,
 "nbformat_minor": 2
}
